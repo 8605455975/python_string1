{
 "cells": [
  {
   "cell_type": "code",
   "execution_count": 12,
   "id": "d6d449de",
   "metadata": {},
   "outputs": [],
   "source": [
    "#Python String\n",
    "food='samosa'\n"
   ]
  },
  {
   "cell_type": "code",
   "execution_count": 13,
   "id": "c5e0414f",
   "metadata": {},
   "outputs": [
    {
     "data": {
      "text/plain": [
       "'s'"
      ]
     },
     "execution_count": 13,
     "metadata": {},
     "output_type": "execute_result"
    }
   ],
   "source": [
    "#Index Operator\n",
    "food[0]"
   ]
  },
  {
   "cell_type": "code",
   "execution_count": 14,
   "id": "8ff08861",
   "metadata": {},
   "outputs": [
    {
     "data": {
      "text/plain": [
       "'a'"
      ]
     },
     "execution_count": 14,
     "metadata": {},
     "output_type": "execute_result"
    }
   ],
   "source": [
    "food[-1]"
   ]
  },
  {
   "cell_type": "code",
   "execution_count": 16,
   "id": "5c2c7b93",
   "metadata": {},
   "outputs": [
    {
     "data": {
      "text/plain": [
       "'as'"
      ]
     },
     "execution_count": 16,
     "metadata": {},
     "output_type": "execute_result"
    }
   ],
   "source": [
    "food[-5]+food[0]"
   ]
  },
  {
   "cell_type": "code",
   "execution_count": 17,
   "id": "9ba8f91f",
   "metadata": {},
   "outputs": [
    {
     "data": {
      "text/plain": [
       "'sa'"
      ]
     },
     "execution_count": 17,
     "metadata": {},
     "output_type": "execute_result"
    }
   ],
   "source": [
    "#String Slicing\n",
    "food[0:2]"
   ]
  },
  {
   "cell_type": "code",
   "execution_count": 22,
   "id": "ff6a0094",
   "metadata": {},
   "outputs": [
    {
     "data": {
      "text/plain": [
       "'a'"
      ]
     },
     "execution_count": 22,
     "metadata": {},
     "output_type": "execute_result"
    }
   ],
   "source": [
    "food[-1:]"
   ]
  },
  {
   "cell_type": "code",
   "execution_count": 23,
   "id": "dd943595",
   "metadata": {},
   "outputs": [
    {
     "data": {
      "text/plain": [
       "'s'"
      ]
     },
     "execution_count": 23,
     "metadata": {},
     "output_type": "execute_result"
    }
   ],
   "source": [
    "food[-2:-1]"
   ]
  },
  {
   "cell_type": "code",
   "execution_count": 24,
   "id": "f7e3e661",
   "metadata": {},
   "outputs": [
    {
     "data": {
      "text/plain": [
       "''"
      ]
     },
     "execution_count": 24,
     "metadata": {},
     "output_type": "execute_result"
    }
   ],
   "source": [
    "food[-3:2]"
   ]
  },
  {
   "cell_type": "code",
   "execution_count": 25,
   "id": "9584c716",
   "metadata": {},
   "outputs": [
    {
     "data": {
      "text/plain": [
       "6"
      ]
     },
     "execution_count": 25,
     "metadata": {},
     "output_type": "execute_result"
    }
   ],
   "source": [
    "#length of string\n",
    "len(food)"
   ]
  },
  {
   "cell_type": "code",
   "execution_count": 26,
   "id": "cf55b64f",
   "metadata": {},
   "outputs": [],
   "source": [
    "#in opertator string\n",
    "myfood='samosa,jalebi'"
   ]
  },
  {
   "cell_type": "code",
   "execution_count": 32,
   "id": "3b2fe475",
   "metadata": {},
   "outputs": [
    {
     "data": {
      "text/plain": [
       "True"
      ]
     },
     "execution_count": 32,
     "metadata": {},
     "output_type": "execute_result"
    }
   ],
   "source": [
    "'samosa' in myfood"
   ]
  },
  {
   "cell_type": "code",
   "execution_count": 33,
   "id": "e52c1077",
   "metadata": {},
   "outputs": [
    {
     "data": {
      "text/plain": [
       "False"
      ]
     },
     "execution_count": 33,
     "metadata": {},
     "output_type": "execute_result"
    }
   ],
   "source": [
    "'biryani' in food"
   ]
  },
  {
   "cell_type": "code",
   "execution_count": 43,
   "id": "da274ce4",
   "metadata": {},
   "outputs": [
    {
     "data": {
      "text/plain": [
       "'biryani,jalebi'"
      ]
     },
     "execution_count": 43,
     "metadata": {},
     "output_type": "execute_result"
    }
   ],
   "source": [
    "#replace fuction\n",
    "myfood=myfood.replace('samosa','biryani')\n",
    "myfood\n"
   ]
  },
  {
   "cell_type": "code",
   "execution_count": 45,
   "id": "0efc4d26",
   "metadata": {},
   "outputs": [
    {
     "data": {
      "text/plain": [
       "'BIRYANI,JALEBI'"
      ]
     },
     "execution_count": 45,
     "metadata": {},
     "output_type": "execute_result"
    }
   ],
   "source": [
    "myfood.upper()"
   ]
  },
  {
   "cell_type": "code",
   "execution_count": 46,
   "id": "8af4c42a",
   "metadata": {},
   "outputs": [
    {
     "data": {
      "text/plain": [
       "'biryani,jalebi'"
      ]
     },
     "execution_count": 46,
     "metadata": {},
     "output_type": "execute_result"
    }
   ],
   "source": [
    "myfood.lower()"
   ]
  },
  {
   "cell_type": "code",
   "execution_count": 47,
   "id": "096ed0ed",
   "metadata": {},
   "outputs": [
    {
     "data": {
      "text/plain": [
       "['__add__',\n",
       " '__class__',\n",
       " '__contains__',\n",
       " '__delattr__',\n",
       " '__dir__',\n",
       " '__doc__',\n",
       " '__eq__',\n",
       " '__format__',\n",
       " '__ge__',\n",
       " '__getattribute__',\n",
       " '__getitem__',\n",
       " '__getnewargs__',\n",
       " '__gt__',\n",
       " '__hash__',\n",
       " '__init__',\n",
       " '__init_subclass__',\n",
       " '__iter__',\n",
       " '__le__',\n",
       " '__len__',\n",
       " '__lt__',\n",
       " '__mod__',\n",
       " '__mul__',\n",
       " '__ne__',\n",
       " '__new__',\n",
       " '__reduce__',\n",
       " '__reduce_ex__',\n",
       " '__repr__',\n",
       " '__rmod__',\n",
       " '__rmul__',\n",
       " '__setattr__',\n",
       " '__sizeof__',\n",
       " '__str__',\n",
       " '__subclasshook__',\n",
       " 'capitalize',\n",
       " 'casefold',\n",
       " 'center',\n",
       " 'count',\n",
       " 'encode',\n",
       " 'endswith',\n",
       " 'expandtabs',\n",
       " 'find',\n",
       " 'format',\n",
       " 'format_map',\n",
       " 'index',\n",
       " 'isalnum',\n",
       " 'isalpha',\n",
       " 'isascii',\n",
       " 'isdecimal',\n",
       " 'isdigit',\n",
       " 'isidentifier',\n",
       " 'islower',\n",
       " 'isnumeric',\n",
       " 'isprintable',\n",
       " 'isspace',\n",
       " 'istitle',\n",
       " 'isupper',\n",
       " 'join',\n",
       " 'ljust',\n",
       " 'lower',\n",
       " 'lstrip',\n",
       " 'maketrans',\n",
       " 'partition',\n",
       " 'removeprefix',\n",
       " 'removesuffix',\n",
       " 'replace',\n",
       " 'rfind',\n",
       " 'rindex',\n",
       " 'rjust',\n",
       " 'rpartition',\n",
       " 'rsplit',\n",
       " 'rstrip',\n",
       " 'split',\n",
       " 'splitlines',\n",
       " 'startswith',\n",
       " 'strip',\n",
       " 'swapcase',\n",
       " 'title',\n",
       " 'translate',\n",
       " 'upper',\n",
       " 'zfill']"
      ]
     },
     "execution_count": 47,
     "metadata": {},
     "output_type": "execute_result"
    }
   ],
   "source": [
    "dir(myfood)"
   ]
  },
  {
   "cell_type": "code",
   "execution_count": 58,
   "id": "eee6cf20",
   "metadata": {},
   "outputs": [
    {
     "data": {
      "text/plain": [
       "8"
      ]
     },
     "execution_count": 58,
     "metadata": {},
     "output_type": "execute_result"
    }
   ],
   "source": [
    "myfood.index('jalebi')"
   ]
  },
  {
   "cell_type": "code",
   "execution_count": 59,
   "id": "e36cea46",
   "metadata": {},
   "outputs": [
    {
     "name": "stdout",
     "output_type": "stream",
     "text": [
      "The best cricket player: sachin tendulkar\n"
     ]
    }
   ],
   "source": [
    "first='sachin'\n",
    "last='tendulkar'\n",
    "print('The best cricket player:',first + ' ' + last)"
   ]
  },
  {
   "cell_type": "markdown",
   "id": "1c9d0b43",
   "metadata": {},
   "source": [
    "print(f'The best cricket player {first} {last}')"
   ]
  }
 ],
 "metadata": {
  "kernelspec": {
   "display_name": "Python 3 (ipykernel)",
   "language": "python",
   "name": "python3"
  },
  "language_info": {
   "codemirror_mode": {
    "name": "ipython",
    "version": 3
   },
   "file_extension": ".py",
   "mimetype": "text/x-python",
   "name": "python",
   "nbconvert_exporter": "python",
   "pygments_lexer": "ipython3",
   "version": "3.9.13"
  }
 },
 "nbformat": 4,
 "nbformat_minor": 5
}
